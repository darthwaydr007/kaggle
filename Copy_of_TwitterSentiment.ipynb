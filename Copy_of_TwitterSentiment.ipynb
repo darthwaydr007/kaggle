{
  "nbformat": 4,
  "nbformat_minor": 0,
  "metadata": {
    "colab": {
      "name": "Copy of TwitterSentiment.ipynb",
      "provenance": [],
      "mount_file_id": "1eM3Tqc-cnudw0cbcPtKW1VibVrw99Bms",
      "authorship_tag": "ABX9TyOYSRBlzE00sh3qg87AODXE",
      "include_colab_link": true
    },
    "kernelspec": {
      "name": "python3",
      "display_name": "Python 3"
    },
    "accelerator": "GPU"
  },
  "cells": [
    {
      "cell_type": "markdown",
      "metadata": {
        "id": "view-in-github",
        "colab_type": "text"
      },
      "source": [
        "<a href=\"https://colab.research.google.com/github/darthwaydr007/kaggle/blob/master/Copy_of_TwitterSentiment.ipynb\" target=\"_parent\"><img src=\"https://colab.research.google.com/assets/colab-badge.svg\" alt=\"Open In Colab\"/></a>"
      ]
    },
    {
      "cell_type": "markdown",
      "metadata": {
        "id": "vjcnYYlfWk1I",
        "colab_type": "text"
      },
      "source": [
        "# Setup"
      ]
    },
    {
      "cell_type": "code",
      "metadata": {
        "id": "vFJfJGcXWTtW",
        "colab_type": "code",
        "outputId": "00a2d0e3-b1f0-483d-9523-ecb013bd7e01",
        "colab": {
          "base_uri": "https://localhost:8080/",
          "height": 555
        }
      },
      "source": [
        "!pip uninstall torch -y\n",
        "!pip uninstall torchvision -y\n",
        "!pip install torch==1.4.0 torchvision==0.5.0\n",
        "!curl -s https://course.fast.ai/setup/colab | bash\n",
        "%reload_ext autoreload\n",
        "%autoreload 2\n",
        "%matplotlib inline\n",
        "!pip install --upgrade --force-reinstall --no-deps kaggle"
      ],
      "execution_count": 0,
      "outputs": [
        {
          "output_type": "stream",
          "text": [
            "Uninstalling torch-1.5.0+cu101:\n",
            "  Successfully uninstalled torch-1.5.0+cu101\n",
            "Uninstalling torchvision-0.6.0+cu101:\n",
            "  Successfully uninstalled torchvision-0.6.0+cu101\n",
            "Collecting torch==1.4.0\n",
            "\u001b[?25l  Downloading https://files.pythonhosted.org/packages/24/19/4804aea17cd136f1705a5e98a00618cb8f6ccc375ad8bfa437408e09d058/torch-1.4.0-cp36-cp36m-manylinux1_x86_64.whl (753.4MB)\n",
            "\u001b[K     |████████████████████████████████| 753.4MB 22kB/s \n",
            "\u001b[?25hCollecting torchvision==0.5.0\n",
            "\u001b[?25l  Downloading https://files.pythonhosted.org/packages/7e/90/6141bf41f5655c78e24f40f710fdd4f8a8aff6c8b7c6f0328240f649bdbe/torchvision-0.5.0-cp36-cp36m-manylinux1_x86_64.whl (4.0MB)\n",
            "\u001b[K     |████████████████████████████████| 4.0MB 43.1MB/s \n",
            "\u001b[?25hRequirement already satisfied: numpy in /usr/local/lib/python3.6/dist-packages (from torchvision==0.5.0) (1.18.4)\n",
            "Requirement already satisfied: pillow>=4.1.1 in /usr/local/lib/python3.6/dist-packages (from torchvision==0.5.0) (7.0.0)\n",
            "Requirement already satisfied: six in /usr/local/lib/python3.6/dist-packages (from torchvision==0.5.0) (1.12.0)\n",
            "Installing collected packages: torch, torchvision\n",
            "Successfully installed torch-1.4.0 torchvision-0.5.0\n",
            "Updating fastai...\n",
            "Done.\n",
            "Collecting kaggle\n",
            "\u001b[?25l  Downloading https://files.pythonhosted.org/packages/62/ab/bb20f9b9e24f9a6250f95a432f8d9a7d745f8d24039d7a5a6eaadb7783ba/kaggle-1.5.6.tar.gz (58kB)\n",
            "\u001b[K     |████████████████████████████████| 61kB 4.8MB/s \n",
            "\u001b[?25hBuilding wheels for collected packages: kaggle\n",
            "  Building wheel for kaggle (setup.py) ... \u001b[?25l\u001b[?25hdone\n",
            "  Created wheel for kaggle: filename=kaggle-1.5.6-cp36-none-any.whl size=72859 sha256=57fa3cacc12246efb857e7af4f9c8c7bc64ae533e2d04ac051b56e989dfa0ac7\n",
            "  Stored in directory: /root/.cache/pip/wheels/57/4e/e8/bb28d035162fb8f17f8ca5d42c3230e284c6aa565b42b72674\n",
            "Successfully built kaggle\n",
            "Installing collected packages: kaggle\n",
            "  Found existing installation: kaggle 1.5.6\n",
            "    Uninstalling kaggle-1.5.6:\n",
            "      Successfully uninstalled kaggle-1.5.6\n",
            "Successfully installed kaggle-1.5.6\n"
          ],
          "name": "stdout"
        }
      ]
    },
    {
      "cell_type": "code",
      "metadata": {
        "id": "3JBg7TRkjGJ9",
        "colab_type": "code",
        "outputId": "e4b6fd75-19bb-4c52-fe34-3cdd093405bb",
        "colab": {
          "base_uri": "https://localhost:8080/",
          "height": 35
        }
      },
      "source": [
        "import os\n",
        "os.environ['KAGGLE_CONFIG_DIR'] = \"/content/drive/My Drive/kaggle/twitter-sentiment/input/.kaggle/\"\n",
        "os.environ['KAGGLE_USERNAME'] = \,
        "os.environ['KAGGLE_KEY'] = \,
        "%cd /content/drive/My Drive/kaggle/twitter-sentiment/input"
      ],
      "execution_count": 0,
      "outputs": [
        {
          "output_type": "stream",
          "text": [
            "/content/drive/My Drive/kaggle/twitter-sentiment/input\n"
          ],
          "name": "stdout"
        }
      ]
    },
    {
      "cell_type": "code",
      "metadata": {
        "id": "dQlPK-MXjWl-",
        "colab_type": "code",
        "colab": {}
      },
      "source": [
        "#download data from kaggle - twitter-sentiment-extraction"
      ],
      "execution_count": 0,
      "outputs": []
    },
    {
      "cell_type": "code",
      "metadata": {
        "id": "syFtXQQr6ju0",
        "colab_type": "code",
        "colab": {}
      },
      "source": [
        "from fastai.text import *\n",
        "import numpy as np \n",
        "import pandas as pd \n",
        "from pathlib import Path"
      ],
      "execution_count": 0,
      "outputs": []
    },
    {
      "cell_type": "markdown",
      "metadata": {
        "id": "5X14XX9wqq88",
        "colab_type": "text"
      },
      "source": [
        "# Processing Data"
      ]
    },
    {
      "cell_type": "code",
      "metadata": {
        "id": "B-jaN8F6rrgB",
        "colab_type": "code",
        "colab": {}
      },
      "source": [
        "path = Path('/content/drive/My Drive/kaggle/twitter-sentiment/input')"
      ],
      "execution_count": 0,
      "outputs": []
    },
    {
      "cell_type": "code",
      "metadata": {
        "id": "fI-n90yfr8My",
        "colab_type": "code",
        "outputId": "b1603e35-d73b-4565-accb-a88eec138e6e",
        "colab": {
          "base_uri": "https://localhost:8080/",
          "height": 155
        }
      },
      "source": [
        "path.ls()"
      ],
      "execution_count": 0,
      "outputs": [
        {
          "output_type": "execute_result",
          "data": {
            "text/plain": [
              "[PosixPath('/content/drive/My Drive/kaggle/twitter-sentiment/input/train.csv'),\n",
              " PosixPath('/content/drive/My Drive/kaggle/twitter-sentiment/input/test.csv'),\n",
              " PosixPath('/content/drive/My Drive/kaggle/twitter-sentiment/input/sample_submission.csv'),\n",
              " PosixPath('/content/drive/My Drive/kaggle/twitter-sentiment/input/.kaggle'),\n",
              " PosixPath('/content/drive/My Drive/kaggle/twitter-sentiment/input/.ipynb_checkpoints'),\n",
              " PosixPath('/content/drive/My Drive/kaggle/twitter-sentiment/input/train-updated.csv'),\n",
              " PosixPath('/content/drive/My Drive/kaggle/twitter-sentiment/input/data_lm.pkl'),\n",
              " PosixPath('/content/drive/My Drive/kaggle/twitter-sentiment/input/models')]"
            ]
          },
          "metadata": {
            "tags": []
          },
          "execution_count": 11
        }
      ]
    },
    {
      "cell_type": "code",
      "metadata": {
        "id": "fHwXNQNhr90C",
        "colab_type": "code",
        "outputId": "c9a67fa5-7ef5-49ae-de78-5b6571126133",
        "colab": {
          "base_uri": "https://localhost:8080/",
          "height": 198
        }
      },
      "source": [
        "traindf = pd.read_csv(path/'train.csv')\n",
        "traindf.head()"
      ],
      "execution_count": 0,
      "outputs": [
        {
          "output_type": "execute_result",
          "data": {
            "text/html": [
              "<div>\n",
              "<style scoped>\n",
              "    .dataframe tbody tr th:only-of-type {\n",
              "        vertical-align: middle;\n",
              "    }\n",
              "\n",
              "    .dataframe tbody tr th {\n",
              "        vertical-align: top;\n",
              "    }\n",
              "\n",
              "    .dataframe thead th {\n",
              "        text-align: right;\n",
              "    }\n",
              "</style>\n",
              "<table border=\"1\" class=\"dataframe\">\n",
              "  <thead>\n",
              "    <tr style=\"text-align: right;\">\n",
              "      <th></th>\n",
              "      <th>textID</th>\n",
              "      <th>text</th>\n",
              "      <th>selected_text</th>\n",
              "      <th>sentiment</th>\n",
              "    </tr>\n",
              "  </thead>\n",
              "  <tbody>\n",
              "    <tr>\n",
              "      <th>0</th>\n",
              "      <td>cb774db0d1</td>\n",
              "      <td>I`d have responded, if I were going</td>\n",
              "      <td>I`d have responded, if I were going</td>\n",
              "      <td>neutral</td>\n",
              "    </tr>\n",
              "    <tr>\n",
              "      <th>1</th>\n",
              "      <td>549e992a42</td>\n",
              "      <td>Sooo SAD I will miss you here in San Diego!!!</td>\n",
              "      <td>Sooo SAD</td>\n",
              "      <td>negative</td>\n",
              "    </tr>\n",
              "    <tr>\n",
              "      <th>2</th>\n",
              "      <td>088c60f138</td>\n",
              "      <td>my boss is bullying me...</td>\n",
              "      <td>bullying me</td>\n",
              "      <td>negative</td>\n",
              "    </tr>\n",
              "    <tr>\n",
              "      <th>3</th>\n",
              "      <td>9642c003ef</td>\n",
              "      <td>what interview! leave me alone</td>\n",
              "      <td>leave me alone</td>\n",
              "      <td>negative</td>\n",
              "    </tr>\n",
              "    <tr>\n",
              "      <th>4</th>\n",
              "      <td>358bd9e861</td>\n",
              "      <td>Sons of ****, why couldn`t they put them on t...</td>\n",
              "      <td>Sons of ****,</td>\n",
              "      <td>negative</td>\n",
              "    </tr>\n",
              "  </tbody>\n",
              "</table>\n",
              "</div>"
            ],
            "text/plain": [
              "       textID  ... sentiment\n",
              "0  cb774db0d1  ...   neutral\n",
              "1  549e992a42  ...  negative\n",
              "2  088c60f138  ...  negative\n",
              "3  9642c003ef  ...  negative\n",
              "4  358bd9e861  ...  negative\n",
              "\n",
              "[5 rows x 4 columns]"
            ]
          },
          "metadata": {
            "tags": []
          },
          "execution_count": 16
        }
      ]
    },
    {
      "cell_type": "code",
      "metadata": {
        "id": "19oR-YTFsNRY",
        "colab_type": "code",
        "outputId": "a5f0f9f1-381e-4891-e2b4-de5e942db7da",
        "colab": {
          "base_uri": "https://localhost:8080/",
          "height": 198
        }
      },
      "source": [
        "testdf = pd.read_csv(path/'test.csv')\n",
        "testdf.head()"
      ],
      "execution_count": 0,
      "outputs": [
        {
          "output_type": "execute_result",
          "data": {
            "text/html": [
              "<div>\n",
              "<style scoped>\n",
              "    .dataframe tbody tr th:only-of-type {\n",
              "        vertical-align: middle;\n",
              "    }\n",
              "\n",
              "    .dataframe tbody tr th {\n",
              "        vertical-align: top;\n",
              "    }\n",
              "\n",
              "    .dataframe thead th {\n",
              "        text-align: right;\n",
              "    }\n",
              "</style>\n",
              "<table border=\"1\" class=\"dataframe\">\n",
              "  <thead>\n",
              "    <tr style=\"text-align: right;\">\n",
              "      <th></th>\n",
              "      <th>textID</th>\n",
              "      <th>text</th>\n",
              "      <th>sentiment</th>\n",
              "    </tr>\n",
              "  </thead>\n",
              "  <tbody>\n",
              "    <tr>\n",
              "      <th>0</th>\n",
              "      <td>f87dea47db</td>\n",
              "      <td>Last session of the day  http://twitpic.com/67ezh</td>\n",
              "      <td>neutral</td>\n",
              "    </tr>\n",
              "    <tr>\n",
              "      <th>1</th>\n",
              "      <td>96d74cb729</td>\n",
              "      <td>Shanghai is also really exciting (precisely -...</td>\n",
              "      <td>positive</td>\n",
              "    </tr>\n",
              "    <tr>\n",
              "      <th>2</th>\n",
              "      <td>eee518ae67</td>\n",
              "      <td>Recession hit Veronique Branquinho, she has to...</td>\n",
              "      <td>negative</td>\n",
              "    </tr>\n",
              "    <tr>\n",
              "      <th>3</th>\n",
              "      <td>01082688c6</td>\n",
              "      <td>happy bday!</td>\n",
              "      <td>positive</td>\n",
              "    </tr>\n",
              "    <tr>\n",
              "      <th>4</th>\n",
              "      <td>33987a8ee5</td>\n",
              "      <td>http://twitpic.com/4w75p - I like it!!</td>\n",
              "      <td>positive</td>\n",
              "    </tr>\n",
              "  </tbody>\n",
              "</table>\n",
              "</div>"
            ],
            "text/plain": [
              "       textID                                               text sentiment\n",
              "0  f87dea47db  Last session of the day  http://twitpic.com/67ezh   neutral\n",
              "1  96d74cb729   Shanghai is also really exciting (precisely -...  positive\n",
              "2  eee518ae67  Recession hit Veronique Branquinho, she has to...  negative\n",
              "3  01082688c6                                        happy bday!  positive\n",
              "4  33987a8ee5             http://twitpic.com/4w75p - I like it!!  positive"
            ]
          },
          "metadata": {
            "tags": []
          },
          "execution_count": 17
        }
      ]
    },
    {
      "cell_type": "code",
      "metadata": {
        "id": "-QkZSWHFS3B6",
        "colab_type": "code",
        "outputId": "b32aea68-510e-4120-d617-414655e0a858",
        "colab": {
          "base_uri": "https://localhost:8080/",
          "height": 35
        }
      },
      "source": [
        "train = pd.DataFrame()\n",
        "train = traindf[['textID' ,'text' , 'sentiment']]\n",
        "test = pd.DataFrame()\n",
        "test = testdf[['textID' , 'text' , 'sentiment']]\n",
        "print(test.iloc[2][1])"
      ],
      "execution_count": 0,
      "outputs": [
        {
          "output_type": "stream",
          "text": [
            "Recession hit Veronique Branquinho, she has to quit her company, such a shame!\n"
          ],
          "name": "stdout"
        }
      ]
    },
    {
      "cell_type": "code",
      "metadata": {
        "id": "ZpgXfFI5CfMG",
        "colab_type": "code",
        "outputId": "eb978720-d8a9-49ff-ec41-297cc96c78ba",
        "colab": {
          "base_uri": "https://localhost:8080/",
          "height": 86
        }
      },
      "source": [
        "train.isnull().sum()"
      ],
      "execution_count": 0,
      "outputs": [
        {
          "output_type": "execute_result",
          "data": {
            "text/plain": [
              "textID       0\n",
              "text         1\n",
              "sentiment    0\n",
              "dtype: int64"
            ]
          },
          "metadata": {
            "tags": []
          },
          "execution_count": 19
        }
      ]
    },
    {
      "cell_type": "code",
      "metadata": {
        "id": "Evn-tlu2CgvK",
        "colab_type": "code",
        "outputId": "9e8c461f-05d9-4269-cf55-d4bed174cbb2",
        "colab": {
          "base_uri": "https://localhost:8080/",
          "height": 193
        }
      },
      "source": [
        "train.dropna( inplace=True)\n",
        "train.isnull().sum()"
      ],
      "execution_count": 0,
      "outputs": [
        {
          "output_type": "stream",
          "text": [
            "/usr/local/lib/python3.6/dist-packages/ipykernel_launcher.py:1: SettingWithCopyWarning: \n",
            "A value is trying to be set on a copy of a slice from a DataFrame\n",
            "\n",
            "See the caveats in the documentation: https://pandas.pydata.org/pandas-docs/stable/user_guide/indexing.html#returning-a-view-versus-a-copy\n",
            "  \"\"\"Entry point for launching an IPython kernel.\n"
          ],
          "name": "stderr"
        },
        {
          "output_type": "execute_result",
          "data": {
            "text/plain": [
              "textID       0\n",
              "text         0\n",
              "sentiment    0\n",
              "dtype: int64"
            ]
          },
          "metadata": {
            "tags": []
          },
          "execution_count": 20
        }
      ]
    },
    {
      "cell_type": "code",
      "metadata": {
        "id": "g3i583YJlPDn",
        "colab_type": "code",
        "colab": {}
      },
      "source": [
        "trainlm = train.drop(columns=['textID'] )\n",
        "testlm =  test.drop( columns=['textID'] )"
      ],
      "execution_count": 0,
      "outputs": []
    },
    {
      "cell_type": "code",
      "metadata": {
        "id": "9lx639KUpln9",
        "colab_type": "code",
        "outputId": "f0bce771-7ee1-4e03-c219-1b009789ad47",
        "colab": {
          "base_uri": "https://localhost:8080/",
          "height": 198
        }
      },
      "source": [
        "trainlm.head()"
      ],
      "execution_count": 0,
      "outputs": [
        {
          "output_type": "execute_result",
          "data": {
            "text/html": [
              "<div>\n",
              "<style scoped>\n",
              "    .dataframe tbody tr th:only-of-type {\n",
              "        vertical-align: middle;\n",
              "    }\n",
              "\n",
              "    .dataframe tbody tr th {\n",
              "        vertical-align: top;\n",
              "    }\n",
              "\n",
              "    .dataframe thead th {\n",
              "        text-align: right;\n",
              "    }\n",
              "</style>\n",
              "<table border=\"1\" class=\"dataframe\">\n",
              "  <thead>\n",
              "    <tr style=\"text-align: right;\">\n",
              "      <th></th>\n",
              "      <th>text</th>\n",
              "      <th>sentiment</th>\n",
              "    </tr>\n",
              "  </thead>\n",
              "  <tbody>\n",
              "    <tr>\n",
              "      <th>0</th>\n",
              "      <td>I`d have responded, if I were going</td>\n",
              "      <td>neutral</td>\n",
              "    </tr>\n",
              "    <tr>\n",
              "      <th>1</th>\n",
              "      <td>Sooo SAD I will miss you here in San Diego!!!</td>\n",
              "      <td>negative</td>\n",
              "    </tr>\n",
              "    <tr>\n",
              "      <th>2</th>\n",
              "      <td>my boss is bullying me...</td>\n",
              "      <td>negative</td>\n",
              "    </tr>\n",
              "    <tr>\n",
              "      <th>3</th>\n",
              "      <td>what interview! leave me alone</td>\n",
              "      <td>negative</td>\n",
              "    </tr>\n",
              "    <tr>\n",
              "      <th>4</th>\n",
              "      <td>Sons of ****, why couldn`t they put them on t...</td>\n",
              "      <td>negative</td>\n",
              "    </tr>\n",
              "  </tbody>\n",
              "</table>\n",
              "</div>"
            ],
            "text/plain": [
              "                                                text sentiment\n",
              "0                I`d have responded, if I were going   neutral\n",
              "1      Sooo SAD I will miss you here in San Diego!!!  negative\n",
              "2                          my boss is bullying me...  negative\n",
              "3                     what interview! leave me alone  negative\n",
              "4   Sons of ****, why couldn`t they put them on t...  negative"
            ]
          },
          "metadata": {
            "tags": []
          },
          "execution_count": 24
        }
      ]
    },
    {
      "cell_type": "code",
      "metadata": {
        "id": "gIAVawTkDIym",
        "colab_type": "code",
        "outputId": "f9bd4f95-92dd-4c9c-d894-f5a709d73445",
        "colab": {
          "base_uri": "https://localhost:8080/",
          "height": 17
        }
      },
      "source": [
        "data_lm = TextLMDataBunch.from_df(path, train_df = train, valid_df=testlm ,min_freq=1 , max_vocab = 60000 ,bs = 64 )"
      ],
      "execution_count": 0,
      "outputs": [
        {
          "output_type": "display_data",
          "data": {
            "text/html": [
              ""
            ],
            "text/plain": [
              "<IPython.core.display.HTML object>"
            ]
          },
          "metadata": {
            "tags": []
          }
        },
        {
          "output_type": "display_data",
          "data": {
            "text/html": [
              ""
            ],
            "text/plain": [
              "<IPython.core.display.HTML object>"
            ]
          },
          "metadata": {
            "tags": []
          }
        }
      ]
    },
    {
      "cell_type": "code",
      "metadata": {
        "id": "vHBMvmwdrSfl",
        "colab_type": "code",
        "colab": {}
      },
      "source": [
        "data_lm.vocab.itos[:20]"
      ],
      "execution_count": 0,
      "outputs": []
    },
    {
      "cell_type": "code",
      "metadata": {
        "id": "nk46h6LWwNAF",
        "colab_type": "code",
        "outputId": "7e38c43b-2da0-445c-aaec-afd8b7f7bab9",
        "colab": {
          "base_uri": "https://localhost:8080/",
          "height": 371
        }
      },
      "source": [
        "data_lm.show_batch()"
      ],
      "execution_count": 0,
      "outputs": [
        {
          "output_type": "display_data",
          "data": {
            "text/html": [
              "<table border=\"1\" class=\"dataframe\">\n",
              "  <thead>\n",
              "    <tr style=\"text-align: right;\">\n",
              "      <th>idx</th>\n",
              "      <th>text</th>\n",
              "    </tr>\n",
              "  </thead>\n",
              "  <tbody>\n",
              "    <tr>\n",
              "      <td>0</td>\n",
              "      <td>some shameless plugging for the best xxmaj rangers forum on earth xxbos 2 am feedings for the baby are fun when he is all smiles and coos xxbos s xxrep 4 o high xxbos xxmaj both of you xxbos xxmaj journey ! ? xxmaj wow ... u just became cooler . hehe ... ( is that possible ! ? ) xxbos as much as i love to be hopeful ,</td>\n",
              "    </tr>\n",
              "    <tr>\n",
              "      <td>1</td>\n",
              "      <td>please pray 4 me . xxmaj lord knows i need it . xxbos xxrep 5 a w i want to live in the xxup usa xxbos xxmaj morning tweeple xxbos xxmaj hey , i didn`t get any ! ! ! xxbos xxmaj now you only have 2 hours to sleep ... - xxmaj rest if you need it . xxbos xxmaj that makes my day so much better , it`s</td>\n",
              "    </tr>\n",
              "    <tr>\n",
              "      <td>2</td>\n",
              "      <td>updates are really amusing . xxmaj how was the prop auction?how much did that baseship bed go for ? xxbos xxmaj loves the fact that there`s only 5 days of school left xxbos xxmaj oh no ! ! i hope it`s not bad xxbos awesome .. am headin there that nite after my grad dinner c u then boi ! hehe xxbos _ beery xxmaj yeah little rough this morning</td>\n",
              "    </tr>\n",
              "    <tr>\n",
              "      <td>3</td>\n",
              "      <td>maybe ride the horses and take my sister to softball pratice xxbos xxmaj nice ! xxmaj you should submit that to failblog.org xxbos xxmaj is ahhh , ching chong wing wong ping pong ding dong ! xxbos has two tickets to xxmaj amadou and xxmaj miriam for xxmaj tue . xxmaj june 2 that i can`t use $ 25 each to anyone who wants ` em . xxmaj that`s face</td>\n",
              "    </tr>\n",
              "    <tr>\n",
              "      <td>4</td>\n",
              "      <td>kyles going out of town this weekend play time wif my fwiends . xxmaj rawrrr . xxbos gah ! didn`t realize my meeting was from 9 - 12 xxbos needs a job xxbos is satisfied with her xxup fp`09 review xxbos cuz i m a always late haha dammit she got me good xxbos - i know ! xxmaj it was drizzling all the way to work ! xxmaj hope</td>\n",
              "    </tr>\n",
              "  </tbody>\n",
              "</table>"
            ],
            "text/plain": [
              "<IPython.core.display.HTML object>"
            ]
          },
          "metadata": {
            "tags": []
          }
        }
      ]
    },
    {
      "cell_type": "markdown",
      "metadata": {
        "id": "coleQwQhx0Np",
        "colab_type": "text"
      },
      "source": [
        "# Language Model"
      ]
    },
    {
      "cell_type": "code",
      "metadata": {
        "id": "WEXCU0UYzNha",
        "colab_type": "code",
        "colab": {}
      },
      "source": [
        "bs = 32"
      ],
      "execution_count": 0,
      "outputs": []
    },
    {
      "cell_type": "code",
      "metadata": {
        "id": "KO2x_U5VxzJU",
        "colab_type": "code",
        "colab": {}
      },
      "source": [
        "data_lm.save('data_lm.pkl')"
      ],
      "execution_count": 0,
      "outputs": []
    },
    {
      "cell_type": "code",
      "metadata": {
        "id": "ThVO7HKCzD0B",
        "colab_type": "code",
        "colab": {}
      },
      "source": [
        "data_lm = load_data(path, 'data_lm.pkl', bs=bs)"
      ],
      "execution_count": 0,
      "outputs": []
    },
    {
      "cell_type": "code",
      "metadata": {
        "id": "2EttN2kVzQcK",
        "colab_type": "code",
        "colab": {}
      },
      "source": [
        "learn = language_model_learner(data_lm, AWD_LSTM, drop_mult=0.3)"
      ],
      "execution_count": 0,
      "outputs": []
    },
    {
      "cell_type": "code",
      "metadata": {
        "id": "PqWMAV6B15zD",
        "colab_type": "code",
        "outputId": "b86352d2-c204-4229-beb4-df3432e89b98",
        "colab": {
          "base_uri": "https://localhost:8080/",
          "height": 377
        }
      },
      "source": [
        "learn.lr_find()\n",
        "learn.recorder.plot(skip_end=15)"
      ],
      "execution_count": 0,
      "outputs": [
        {
          "output_type": "display_data",
          "data": {
            "text/html": [
              "\n",
              "    <div>\n",
              "        <style>\n",
              "            /* Turns off some styling */\n",
              "            progress {\n",
              "                /* gets rid of default border in Firefox and Opera. */\n",
              "                border: none;\n",
              "                /* Needs to be in here for Safari polyfill so background images work as expected. */\n",
              "                background-size: auto;\n",
              "            }\n",
              "            .progress-bar-interrupted, .progress-bar-interrupted::-webkit-progress-bar {\n",
              "                background: #F44336;\n",
              "            }\n",
              "        </style>\n",
              "      <progress value='0' class='' max='1' style='width:300px; height:20px; vertical-align: middle;'></progress>\n",
              "      0.00% [0/1 00:00<00:00]\n",
              "    </div>\n",
              "    \n",
              "<table border=\"1\" class=\"dataframe\">\n",
              "  <thead>\n",
              "    <tr style=\"text-align: left;\">\n",
              "      <th>epoch</th>\n",
              "      <th>train_loss</th>\n",
              "      <th>valid_loss</th>\n",
              "      <th>accuracy</th>\n",
              "      <th>time</th>\n",
              "    </tr>\n",
              "  </thead>\n",
              "  <tbody>\n",
              "  </tbody>\n",
              "</table><p>\n",
              "\n",
              "    <div>\n",
              "        <style>\n",
              "            /* Turns off some styling */\n",
              "            progress {\n",
              "                /* gets rid of default border in Firefox and Opera. */\n",
              "                border: none;\n",
              "                /* Needs to be in here for Safari polyfill so background images work as expected. */\n",
              "                background-size: auto;\n",
              "            }\n",
              "            .progress-bar-interrupted, .progress-bar-interrupted::-webkit-progress-bar {\n",
              "                background: #F44336;\n",
              "            }\n",
              "        </style>\n",
              "      <progress value='99' class='' max='225' style='width:300px; height:20px; vertical-align: middle;'></progress>\n",
              "      44.00% [99/225 00:14<00:17 11.7112]\n",
              "    </div>\n",
              "    "
            ],
            "text/plain": [
              "<IPython.core.display.HTML object>"
            ]
          },
          "metadata": {
            "tags": []
          }
        },
        {
          "output_type": "stream",
          "text": [
            "LR Finder is complete, type {learner_name}.recorder.plot() to see the graph.\n"
          ],
          "name": "stdout"
        },
        {
          "output_type": "display_data",
          "data": {
            "image/png": "iVBORw0KGgoAAAANSUhEUgAAAZgAAAEKCAYAAAAvlUMdAAAABHNCSVQICAgIfAhkiAAAAAlwSFlzAAALEgAACxIB0t1+/AAAADh0RVh0U29mdHdhcmUAbWF0cGxvdGxpYiB2ZXJzaW9uMy4yLjEsIGh0dHA6Ly9tYXRwbG90bGliLm9yZy+j8jraAAAgAElEQVR4nO3deXxV9Z3/8dcn+wIJxIQtYQmgIKJhiSIuFKUutbZiXbDttLY6pXax7W+mTp06ra3OOO1MbaWbyrh0s1WL4lIVq1XEBZCwr8pOEpaEJRAC2T+/P+5RY0wgwD25Wd7Px+M8uPec77nn8+UG3jnnfM855u6IiIhEW1ysCxARka5JASMiIqFQwIiISCgUMCIiEgoFjIiIhEIBIyIioQg1YMysl5nNMrN1ZrbWzCa20GaymS0zs9Vm9lqT+VvMbGWwrCjMOkVEJPoSQv78GcAcd7/azJKAtKYLzawX8FvgUnffZmZ9mq1/gbvvDrlGEREJQWgBY2aZwCTgSwDuXgvUNmv2OeBJd98WtCkLqx4REWlfYe7B5APlwMNmVgAsBr7t7lVN2pwCJJrZXKAnMMPd/xAsc+DvZubA/e4+82gbzM7O9iFDhkSxCyIiXdvixYt3u3tOGJ8dZsAkAOOAm919oZnNAG4FftCszXhgCpAKzDezBe7+LnCeu5cGh81eMrN17j6v+UbMbDowHWDQoEEUFel0jYhIW5nZ1rA+O8yT/CVAibsvDN7PIhI4zdu86O5VwbmWeUABgLuXBn+WAbOBs1raiLvPdPdCdy/MyQklhEVE5DiEFjDuvhMoNrMRwawpwJpmzZ4GzjOzBDNLAyYAa80s3cx6AphZOnAxsCqsWkVEJPrCHkV2M/BIMIJsE/BlM7sJwN3vc/e1ZjYHWAE0Ag+4+yozGwrMNrP3avyzu88JuVYREYki60q36y8sLHSdgxERaTszW+zuhWF8tq7kFxGRUChgREQkFAoYEREJhQJG2s3G8oM8vqiYxsauc95PRFoX9igyEQCeWlrK92ev5FBtA/M37eF/rz6DhHj9fiPSlSlgJFTVdQ38+Nk1/OXtbZw1JIvCIb357dyNHKyp51efHUtKYnysSxSRkChgJCr2H67j6WWlbCqvIj05nrSkBNKS4vlrUQlrdhzga5OH8a8XnUJCfBx9M1K4/ZnV3Pj7Rcz8QiHpyQnsraplZel+SvYd4uOn9qVvRkqsuyQiJ0jXwchxc3eWFlfw54Xb+NuK7VTXNdIjOYHDdQ00BOdZeqUl8vNrC7hwZN8PrfvE4hL+7YkV5PVOpa6+ke37q99flhQfx1Xjc5k+aRj52ent2ieR7ibM62C0B9ONbSirpOxADQdr6qmqraemrpGz8rMYmtPjiOvt2H+Yp5dtZ/aSUt7ZVUlaUjxXjs3j8xMGMTo3E3entqGRQzUNpCbFt3gY7KrxefRMSeC3czcyMCuNL+VmMDo3k6z0JP60YCuPF5Xw2KJiPnF6f26/fBR9tEcj0uloD6ab+v1bW7j9mdUtLjttQAaXnzGAT57en5SkOHbur2bH/mpK9h3m5TW7WLB5D+4wdlAvrhqXxxVjBtAzJTGq9ZVVVvPwm1v43ZtbGJSVxuNfnUhmWnS3ISLh7sEoYLqhxVv3cd3M+Zw3PJvpk4bRMyWB9OTIzuwr68p4dvl2lhVXtLhufnY6U8fkcsWYAQxph8NXb27YzZcfXsQZeZn88cYJpCZpUIBINClg2qi7BUx9QyPV9Y0crm2guq6BtKR4TuqRfMR19hys4ZO/fIPEBONv3zy/1b2C4r2HeHntLhLijH6ZqfTPTKFvRgrZPZIIbkLabp5fuYNv/HkJF4zow/1fGE9iMLx5Q9lBnl5WyqHaBnJ6JpPTIznyZzBlpSURFxeptba+kZ37qympOIRhjBvci+QEhZWIAqaNukvAHK5t4Bt/XsIr6z76hOkRfXtyzvCTOHdYNhOGZn3o0FVDo/PFhxayaMs+nvzaOYzOzWzPsk/IIwu3ctvsVVw5Npezh2bxeFEJi7fuIz7OSIqP43Bdw0fWiY+zSCBi7KqspumPelpSPOcMO4nJI/pw4cg+DOiVesI1uju7DtSwZsd+BmWlMbxPzxP+TJGw6SS/vO9wbQM3/n4R8zft4cbz8umXkUJKUjypifGUV9bw1sbd/HnhNh5+cwsJccaZQ7K4YGQOF4zow9PLtvPmhj38z1VndKpwAfj8hMHsPVjL3S+9y+ylpQzLSeffPzGSK8fl0qdnClU19ew+WENZZQ3lwVRWWU3ZgRoaHXJ7p5LXK5Xc3qkcrm3gtXfLefWdMl5eW4YZTBnZlxvOG8LEoScd0x7alt1VPLdyB4u37mNl6X7KK2veX1Y4uDefmzCIy07vT0piPPsP17GyZD/LSyrYf7iOPj2T6ZeZQr+MFIZkp5N9lL1Pkc5GezCdyKHaem78XRELNu/h7msK+My4vBbbVdc1sGTbPua9u5u575Sxbmfl+8umFQ7kp1ef0V4lR5W787cVOxjQK4Vxg3qf8KE6d2djeRVPLyvlkYXb2FtVy8h+Pbn+nCFMOiWH3Fb2asoqq3luxQ6eWrad5cUVmMHwnB6cnpfJ6bmZjOqfwfKSCv7ydjGbd1eRkZJAds9kNpVXvf8ZSfFx1DY0fuhzR+dmcMGIPlwwsg8Feb2Ij2vfQ5HSPekQWRt15YA5VFvPDb9bxNub93L3tQVcObblcGnJ9orDzH2nnG17D/Gdj5+sq+dbUF3XwDPLtvPQm5vfD+TcXqkUDunN6bmZ7Nhfzbu7Knl3VyW7DkT2Ukb1z2Dq2AF8qmAA/TM/GkbuzvxNe3h8UTFVtQ2MGdiLM/IyOSO3FxmpCVQcqmPngWp2HqhmzfYDzH2njMVb99HokJQQR7wZjuMeuZ7oN58bR+GQrHb9e5GuTwHTRl01YBZv3cuPnlnD6u37+cW0MVwxJjfWJXVZ7s6aHQdYtHkvi7bs4+0teymvrCElMY7hfXpwSt+ejOjbkwtH9uHkvtE/x1JxqJZ563ezqnQ/7o6ZYcDf1+xid2UNf5l+dqc7vCkdmwKmjTprwCzeuo//eGoV2T2SuPi0flw8KnKrlE3lB/mfOe8wZ/VO+vRM5o4rRnPp6H6xLrdbcXf2VtXSKy0ppoestlcc5pr75nO4roHHv3q2BhBI1Chg2qgjBExNfQNvbdjD0uIKMlISOKlHElnpyfTLSOGUvj0+ct7gsUXb+MFTq8npmUxyQhybdkeO04/qn8G7uypJTojjqx8bxj+fn09aksZkdGdbdldxzf3ziTOYddM5DMxKi3VJ0gV02oAxs17AA8BowIEb3H1+szaTgXuARGC3u38smH8pMAOIBx5w958cbXuxCpi6hkZeXVfGnFU7eWntLiqr61tsl5+dzjWFeVw1Lo+s9CTu/Nsa/jB/K+efnM2vPjuWzNRENpQd5MXVO3nt3XJO7Z/BzReeTE5PjS6SiHd2VjJt5nx6piTwyI1nM+gkhYycmM4cML8HXnf3B8wsCUhz94omy3sBbwGXuvs2M+vj7mVmFg+8C1wElACLgM+6+5ojbS8WAbNoy16+/+RK1pcdJDM1kYtH9eWy0/szcdhJ1NQ1sqeqhr1VtWwsP8gTS0p5e/Ne4iwybLZ472G+cn4+37t0pJ6NIm22vLiCLzy4EIAZ143lgpF9YlyRdGadMmDMLBNYBgz1VjZiZl8HBrj7fzSbPxH4kbtfErz/dwB3/+8jbbM9A6biUC0/eWEdjy4qJrdXKv/xyVP5+Ki+719l3prNu6uYtbiYtzbu4fqJQ5g6Vifs5dht23OIm/60mDU7DvCtKSfz7Skna1izHJfOeqFlPlAOPGxmBcBi4NvuXtWkzSlAopnNBXoCM9z9D0AuUNykXQkwoaWNmNl0YDrAoEGDot2HjyirrOaZZdu5d+5GKg7XMX3SUL7z8ZPbfH4kPzudWy4ZGXKV0tUNOimNJ79+DrfNXsUv/7GeZcUV/NfU0TovIx1KmAGTAIwDbnb3hWY2A7gV+EGzNuOBKUAqMN/MFhzLRtx9JjATInswJ1JwQ6NzsKaegzX11NV/cBGcA0u37WP20lLe3LCbRo9cpf3jK07jtAEaMiqxkZIYz8+uOYPxg3vzo2dWM+l/X+WCEX34p7MH8bFT+miPRmIuzIApAUrcfWHwfhaRgGneZk+wV1NlZvOAgmD+wCbt8oDSsAo99yevsO9QLYdqP3o/q6byeqfy9cnDmTp2gIaJSodgZnxuwiAuGJnDX94u5i9vb+OG3xWR1zuVWy4ZoWumJKZCCxh332lmxWY2wt3fIbKX0vwk/dPAr80sAUgichjsF8A64GQzyycSLNcBnwur1otG9SUhzuiRkkCP5AR6piSQlBA5lxK5zA0GZqVG5fYkImHon5nKv1x0CjdfOJy/r97FzHkb+fajy3h1XRl3TB1NRpSf1yPSFmGPIhtDZJhyErAJ+DIwDcDd7wva3BLMbyQyHPmeYP5lRIYvxwMPuft/HW17HeE6GJGOoL6hkd+8upFfvrKe/pkpzLhuDOMH6zYz8lGdchRZLChgRD5s8dZ9fOexpWyvqOaOK07j8xMGx7ok6WDCDBhdfCHShY0f3Jvnv3U+5w3P5vanV7O8lSeVioRBASPSxfVMSWTGdWPo0zOZbz26lMrquliXJN2EAkakG+iVlsSMz46leO8hfvDUKrrSoXHpuBQwIt3EmUOy+M7HT+GpZdt5Ykloo/5F3qeAEelGvnHBcCbkZ/HDp1exqfxgrMuRLk4BI9KNxMcZ91w3hqSEOKbNXMDspSU6XCahUcCIdDP9M1P5040TGJCZwv97bDnX3DefVaX7Y12WdEEKGJFuaHRuJrO/fi4/vep0Nu+u4lO/foM7nl1DfUPj0VcWaSM9IlGkm4qLM6adOYhLR/fnZy++w0Nvbqa04hAzrhtLSmJ8rMuTLkB7MCLdXGZqIndOHc3tnxrFi6t3cf1Db3NA18pIFChgRASAL5+bz4zrxrB46z6m3b+AssrqWJcknZwCRkTed8WYXB64vpAtu6v4zG/fYvHWfbEuSToxBYyIfMjkEX14dPrZAFx7/3zuefldnfyX46KAEZGPKBjYi+e/fT6fLhjAPS+v59r757Ntz6FYlyWdjAJGRFqUkZLIL6aNYcZ1Y1hfdpDLf/U6O/frvIy0nQJGRI7oijG5PPWNc6mua+TnL70T63KkE1HAiMhRDcvpwRcnDmbW4hLW7TwQ63Kkk1DAiEibfPPC4fRITuAnL6yLdSnSSYQaMGbWy8xmmdk6M1trZhObLZ9sZvvNbFkw/bDJsi1mtjKYr+cgi8RYr7QkvnnhcOa+U86bG3bHuhzpBMLeg5kBzHH3kUABsLaFNq+7+5hguqPZsguC+aE8L1pEjs0XJw4ht1cqdz2/lsZG3YVZjiy0gDGzTGAS8CCAu9e6ux4ILtKJpSTGc8slI1i9/QBPL9dDy+TIwtyDyQfKgYfNbKmZPWBm6S20m2hmy83sBTM7rcl8B/5uZovNbHprGzGz6WZWZGZF5eXlUe6CiDT36YIBjM7N4Gcvvkt1XUOsy5EOLMyASQDGAfe6+1igCri1WZslwGB3LwB+BTzVZNl57j4O+ATwDTOb1NJG3H2muxe6e2FOTk7UOyEiHxYXZ3z/slMprTjMH+ZviXU50oGFGTAlQIm7LwzezyISOO9z9wPufjB4/TyQaGbZwfvS4M8yYDZwVoi1isgxOGdYNh87JYffvLqR/Yd052VpWWgB4+47gWIzGxHMmgKsadrGzPqZmQWvzwrq2WNm6WbWM5ifDlwMrAqrVhE5dt+7dCQHquu497WNsS5FOqiwHzh2M/CImSUBm4Avm9lNAO5+H3A18DUzqwcOA9e5u5tZX2B2kD0JwJ/dfU7ItYrIMRg1IIMrx+Ty8Jubuf6cwfTPTI11SdLBmHvXGWpYWFjoRUW6ZEakvRTvPcSUu1/jyrG5/PTqM2JdjhwHM1sc1qUgupJfRI7bwKw0vjBxMH9dXMz6XZWxLkc6GAWMiJyQb1wwnPSkBP7nRd0IUz5MASMiJyQrPYmbJg/jpTW7eGujbiEjH1DAiMgJu+HcfPKz07nlrys4UK1hyxKhgBGRE5aaFM/Pry1g54FqfvT06liXIx2EAkZEomLsoN5884LhPLm0lOdW7Ih1OdIBKGBEJGq+eeFwCvIyue2plew6oMcrd3cKGBGJmsT4OH4xbQw1dY1896/LdUv/bk4BIyJRNTSnB7d98lReX7+bp5bplv7dmQJGRKLu8xMGMbxPD/60YGusS5EYUsCISNSZGdMKB7JkW4Wu8O/GFDAiEoorx+WSEGc8tqg41qVIjChgRCQU2T2SuWhUX55cWkptfWOsy5EYUMCISGiuPXMge6tqeXntrliXIjGggBGR0Ew6OYf+mSk6TNZNKWBEJDTxccY14/OYt76c0orDsS5H2pkCRkRCdU3hQABmFZXEuBJpbwoYEQnVwKw0zh2WzeNFxbqyv5sJNWDMrJeZzTKzdWa21swmNls+2cz2m9myYPphk2WXmtk7ZrbBzG4Ns04RCde0MwdSWnGYN/W8mG4lIeTPnwHMcferzSwJSGuhzevufnnTGWYWD/wGuAgoARaZ2TPuvibkekUkBBef1pes9CR+/9YWzj85J9blSDsJbQ/GzDKBScCDAO5e6+4VbVz9LGCDu29y91rgUeCKcCoVkbAlJ8TzxYmDeXltGe/qyv5uI8xDZPlAOfCwmS01swfMLL2FdhPNbLmZvWBmpwXzcoGm4xpLgnki0kldP3EIqYnx3P/apliXIu0kzIBJAMYB97r7WKAKaH4uZQkw2N0LgF8BTx3rRsxsupkVmVlReXn5idYsIiHpnZ7EtDMH8vSyUg1Z7ibCDJgSoMTdFwbvZxEJnPe5+wF3Pxi8fh5INLNsoBQY2KRpXjDvI9x9prsXunthTo6O7Yp0ZP98fj4OPPj65liXIu0gtIBx951AsZmNCGZNAT50kt7M+pmZBa/PCurZAywCTjaz/GBwwHXAM2HVKiLtI693GlcUDODRRdvYV1Ub63IkZGFfB3Mz8IiZrQDGAHeZ2U1mdlOw/GpglZktB34JXOcR9cA3gReBtcDj7r465FpFpB189WPDOFTbwB/m61kxXZ25d50LnwoLC72oqCjWZYjIUdzwu0UsK67gze9dSGpSfKzL6dbMbLG7F4bx2bqSX0Ta3U0fG8beqloeW7Qt1qVIiBQwItLuzhzSm7Pys/jVKxvYf6gu1uVISBQwItLuzIwfXj6KvYdq+cXL78a6HAmJAkZEYmJ0biafnzCIP8zfwtodB2JdjoRAASMiMfOvF40gIzWR259ZTVcacCQRChgRiZne6UnccskI3t68l2eWb491ORJlChgRianrzhzE6NwM7np+LVU19bEuR6JIASMiMRUfZ/z406PZdaCGX7+6IdblSBQpYEQk5sYP7s0nT+/PIwu2Ul3XEOtyJEoUMCLSIUw7cyAHquv5x9qyWJciUaKAEZEO4dzh2fTLSOGJJSWxLkWiRAEjIh1CfJxx5bhcXnu3nLLK6liXI1GggBGRDuOqcXk0NDpPL9WQ5a6gTQFjZulmFhe8PsXMPm1mieGWJiLdzfA+PSgY2IsnlpTowssuoK17MPOAFDPLBf4OfAH4XVhFiUj3dfX4PNbtrGT1dt0+prNra8CYux8CPgP81t2vAU4LrywR6a4+dUZ/kuLjdLK/C2hzwJjZRODzwHPBPD0lSESirldaEh8f1Yenl22ntr4x1uXICWhrwHwH+HdgtruvNrOhwKvhlSUi3dnV4/PYW1XL3Hd0TUxnltCWRu7+GvAaQHCyf7e7fyvMwkSk+5p0cg7ZPZKZtbiEi0/rF+ty5Di1dRTZn80sw8zSgVXAGjO7pQ3r9TKzWWa2zszWBofZWmp3ppnVm9nVTeY1mNmyYHqmrR0Skc4vIT6Oq8bn8o91ZRTvPRTrcuQ4tfUQ2Sh3PwBMBV4A8omMJDuaGcAcdx8JFABrmzcws3jgp0RGpzV12N3HBNOn21iniHQRXzpnCAY8+MbmWJcix6mtAZMYXPcyFXjG3euAIw5SN7NMYBLwIIC717p7RQtNbwaeAHSwVUTe1z8zlSvG5PLYomL2VdXGuhw5Dm0NmPuBLUA6MM/MBgNHG6SeD5QDD5vZUjN7IDjE9r7guporgXtbWD/FzIrMbIGZTW1tI2Y2PWhXVF5e3sbuiEhnMH3SUA7XNfCnBVtjXYochzYFjLv/0t1z3f0yj9gKXHCU1RKAccC97j4WqAJubdbmHuB77t7SWMTB7l4IfA64x8yGtVLbTHcvdPfCnJyctnRHRDqJEf16csGIHH731hbdxr8TautJ/kwz+/l7ewpmdjeRvZkjKQFK3H1h8H4WkcBpqhB41My2AFcDv31vb8XdS4M/NwFzgbFtqVVEupbpk4axp6pWF152Qm09RPYQUAlcG0wHgIePtIK77wSKzWxEMGsKsKZZm3x3H+LuQ4gE0Nfd/Skz621myQBmlg2c23xdEekezh6aRUFeJv83bxMNjbo/WWfS1oAZ5u63u/umYPoxMLQN690MPGJmK4AxwF1mdpOZ3XSU9U4FisxsOZELOn/i7goYkW7IzJg+aRhb9hzipTU7Y12OHIM2XWgJHDaz89z9DQAzOxc4fLSV3H0ZkcNgTd3XStsvNXn9FnB6G2sTkS7u0tH9GJSVxn2vbeLS0f1jXY60UVv3YG4CfmNmW4LzJb8GvhpaVSIiTcTHGTecO4RlxRWsKt0f63Kkjdo6imy5uxcAZwBnBKPCLgy1MhGRJq4cm0dyQhyPLSqOdSnSRsf0REt3PxBc0Q/wLyHUIyLSosy0RC47vT9PLSvlcK2GLHcGJ/LIZItaFSIibTDtzIFUVtfzwqodsS5F2uBEAkbjBUWkXU3Iz2LISWk8qsNkncIRA8bMKs3sQAtTJTCgnWoUEQEiQ5annTmItzfvZVP5wViXI0dxxIBx957untHC1NPd2zrEWUQkaq4an0t8nPFYkfZiOroTOUQmItLu+vRMYcrIPjyxuIS6Bj1SuSNTwIhIp3PdWQPZfbCWf6zVUz46MgWMiHQ6k07OoV9GCo8t2hbrUuQIFDAi0ukkxMdxTWEer71bTmnFUe9aJTGigBGRTmnamQMB+MtC7cV0VAoYEemU8nqnceHIvjy6aBu19TrZ3xEpYESk0/rCxMHsPljLnNW6jX9HpIARkU7r/OHZDD4pjT/N3xrrUqQFChgR6bTi4ox/mjCYt7fsZd3OA0dfQdqVAkZEOrWrx0du4/+nBdqL6WgUMCLSqfVOT+JTBQOYvaSUyuq6WJcjTYQaMGbWy8xmmdk6M1trZhNbaXemmdWb2dVN5l1vZuuD6fow6xSRzu2fzh5MVW0DTy0tjXUp0kTYezAzgDnuPhIoANY2b2Bm8cBPgb83mZcF3A5MAM4Cbjez3iHXKiKdVEFeJqfnZvLHBVtx15NEOorQAsbMMoFJwIMA7l7r7hUtNL0ZeAJoelOhS4CX3H2vu+8DXgIuDatWEenczIwvnD2Yd3cdZMm2lv6bkVgIcw8mHygHHjazpWb2gJmlN21gZrnAlcC9zdbNBZrei7skmCci0qJLT+9HYrzxwko97bKjCDNgEoBxwL3uPhaoAm5t1uYe4HvuftyX4ZrZdDMrMrOi8vLy469WRDq1jJREzhuezZzVO3WYrIMIM2BKgBJ3Xxi8n0UkcJoqBB41sy3A1cBvzWwqUAoMbNIuL5j3Ee4+090L3b0wJycnmvWLSCdz6eh+lOw7zOrtuiamIwgtYNx9J1BsZiOCWVOANc3a5Lv7EHcfQiSAvu7uTwEvAhebWe/g5P7FwTwRkVZdNKofcQZzVunWMR1B2KPIbgYeMbMVwBjgLjO7ycxuOtJK7r4XuBNYFEx3BPNERFqVlZ7EhPyTeGGVzsN0BAlhfri7LyNyGKyp+1pp+6Vm7x8CHgqnMhHpqj5xej9++PRqNpRVMrxPz1iX063pSn4R6VIuOa0fAC+s1GGyWFPAiEiX0jcjhXGDevGCzsPEnAJGRLqcT4zuz5odB9i251CsS+nWFDAi0uVcOjpymGzOap3sjyUFjIh0OQOz0jhtQIaGK8eYAkZEuqRLT+vHkm0V7NxfHetSui0FjIh0SZed0R+AJ5aUxLiS7ksBIyJd0rCcHpw3PJvfv7WF2vrjvt2hnAAFjIh0WTeel09ZZQ3Prdwe61K6JQWMiHRZHzslh6E56Tz4xmbdYTkGFDAi0mXFxRk3nJvPqtIDvL1ZtzNsbwoYEenSrhqXR6+0RB54Y3OsS+l2FDAi0qWlJsXz+QmDeHntLrbsrop1Od2KAkZEurwvThxCQpzxu7e2xLqUbkUBIyJdXt+MFC4/YwCPFxWz/3BdrMvpNhQwItIt3HhePodqG/hrUXGsS+k2FDAi0i2Mzs2kYGAvHltUrCHL7UQBIyLdxrTCgawvO8iy4opYl9ItKGBEpNu4vKA/KYlxPF6k+5O1h1ADxsx6mdksM1tnZmvNbGKz5VeY2QozW2ZmRWZ2XpNlDcH8ZWb2TJh1ikj3kJGSyGWn9+fZ5ds5XNsQ63K6vLD3YGYAc9x9JFAArG22/B9AgbuPAW4AHmiy7LC7jwmmT4dcp4h0E9cWDuRgTT3Pr9TDyMIWWsCYWSYwCXgQwN1r3f1DBz7d/aB/cLYtHdCZNxEJ1YT8LIaclMbjGk0WujD3YPKBcuBhM1tqZg+YWXrzRmZ2pZmtA54jshfznpTgsNkCM5va2kbMbHrQrqi8vDzqnRCRrsXMuKZwIAs379WV/SELM2ASgHHAve4+FqgCbm3eyN1nB4fQpgJ3Nlk02N0Lgc8B95jZsJY24u4z3b3Q3QtzcnKi3gkR6XquGpdHnMFfF2svJkxhBkwJUOLuC4P3s4gETovcfR4w1Myyg/elwZ+bgLnA2BBrFZFupF9mCh87JYdZi0toaNSR+bCEFjDuvhMoNrMRwawpwJqmbcxsuJlZ8HockAzsMbPeZpYczM8Gzm2+rojIibi2cCC7DtQw710dWg9LQsiffzPwiJklAZuAL5vZTQDufh9wFfBFM6sDDgPT3N3N7FTgfjNrJBKCP5uss1AAAA8ISURBVHF3BYyIRM2UU/uS3SOZX72ynskjcgh+15Uosq50y4TCwkIvKiqKdRki0kk8vqiYf3tiBb+YVsCVY/NiXU5MmNni4Hx31OlKfhHptq4en8cZeZn89/PrOFhTH+tyuhwFjIh0W3Fxxo8+fRpllTX8+pUNsS6ny1HAiEi3Nm5Qb64al8eDb2xis66LiSoFjIh0e9/7xAiSE+K5828aSxRNChgR6fb69Ezh21NO5pV1Zbyyblesy+kyFDAiIsD15wxhaE46//ncWuoaGmNdTpeggBERAZIS4vj+J05lU3kVj769LdbldAkKGBGRwJRT+3D20Cx+8fJ6DlTXxbqcTk8BIyISMDNuu2wUe6tquW/uxliX0+kpYEREmjg9L5Mrx+by4BubKa04HOtyOjUFjIhIM9+9ZAQO3P3iO7Eu5agO1dZ32DtCK2BERJrJ7ZXKjefl8+TSUlaV7o91OUc04x/ruejnr1Fd1xDrUj5CASMi0oKvTR5GVnoSd/xtDR31psCV1XX8ecE2Tu2fQUpifKzL+QgFjIhICzJSErnlkhG8vXkvsxaXxLqcFj36djGVNfVMnzQ01qW0SAEjItKKaYUDKRzcm7ueX8veqtpYl/MhdQ2NPPTmZs4emkXBwF6xLqdFChgRkVbExRl3feZ0Kqvruev5tbEu50OeXb6dHfur+eqkYbEupVUKGBGRIzilb0+mTxrKrMUlzN+4J9blAODuzJy3iVP69mDyiJxYl9MqBYyIyFHcfOHJDMxK5banVlJTH/vRWvPW72bdzkq+cv7QDv2o51ADxsx6mdksM1tnZmvNbGKz5VeY2QozW2ZmRWZ2XpNl15vZ+mC6Psw6RUSOJDUpnjuvGM2m8irum7sp1uUwc95G+mYkc8WY3FiXckRh78HMAOa4+0igAGh+EPMfQIG7jwFuAB4AMLMs4HZgAnAWcLuZ9Q65VhGRVk0e0YfLz+jPb+ZuYNueQzGrY1Xpft7csIcbzs0nKaFjH4QKrTozywQmAQ8CuHutu1c0bePuB/2DAebpwHuvLwFecve97r4PeAm4NKxaRUTa4j8+OYqEOOPO52L3YLIHXt9Ej+QEPjthUMxqaKsw4y8fKAceNrOlZvaAmaU3b2RmV5rZOuA5InsxALlAcZNmJcG8jzCz6cHhtaLy8vLo9kBEpIl+mSncfOHJvLRmF6++U9bu26+sruOFVTuZOnYAGSmJ7b79YxVmwCQA44B73X0sUAXc2ryRu88ODqFNBe481o24+0x3L3T3wpycjjuaQkS6hhvOG0J+djp3PLum3U/4v7ByJzX1jVw1Lq9dt3u8wgyYEqDE3RcG72cRCZwWufs8YKiZZQOlwMAmi/OCeSIiMZWcEM/tnxrF5t1VPPTGlnbd9hNLShianc6YDnphZXOhBYy77wSKzWxEMGsK8KEDl2Y23IIxdmY2DkgG9gAvAhebWe/g5P7FwTwRkZibPKIPHz+1L796ZT0791e3yzaL9x5i4ea9fGZcbocemtxU2EMQbgYeMbMVwBjgLjO7ycxuCpZfBawys2XAb4BpHrGXyOGyRcF0RzBPRKRD+OHlo6hvdP6rna7wf2pp5CDO1LEde2hyUwlhfri7LwMKm82+r8nynwI/bWXdh4CHwqtOROT4DTopjZs+Noxf/mM9U8cMYMqpfUPblrvz5NJSJuRnkdc7LbTtRFvHHkQtItKBfeOCYYzs15Nbn1xJxaHwboa5tLiCzburOs3J/fcoYEREjlNyQjw/u6aAfVW13P7M6tC28+SSEpIT4vjE6f1C20YYFDAiIidgdG4m37xwOE8v286cVTui/vk19Q38bcUOLjmtHz07wbUvTSlgRERO0DcuGM7o3Axum72KPQdrovrZr64rp+JQHZ8Z13lO7r9HASMicoIS4+O4+5oxVFbX8/3ZK6mui84FmO7OIwu3ktMzmfOGZ0flM9uTAkZEJApG9OvJdy85hRdX72LCXf/gjmfXsKHs4Al95k9eWMfr63cz/fyhJMR3vv+uQx2mLCLSnXzl/KGMzs3kzwu38ccFW3jozc1MHHoSt396FCP7ZRzTZ93/2kbun7eJL5w9mH8+Pz+kisNlH9zMuPMrLCz0oqKiWJchIsLugzX8taiEB9/YxIHD9dxyyQhuPC+fuLijX4X/16Jibpm1gk+e0Z9fXjeW+Dasc7zMbLG7N79eMTqfrYAREQnPnoM1fH/2ysihs/ws7r624CMXS1bXNXDgcB37D9exrLiCW59cycShJ/HglwpJTogPtT4FTBspYESkI3J3Zi0u4cfPrqHRnZN6JFFd10h1XQM1dY3UNjR+qH1BXiaPfOVseiSHfxYjzIDRORgRkZCZGdcUDuTsoSfx27kbqKlrJDkxjuSEeJIT48hISSQjNZHM1ER6pSZy5pAsUpPC3XNpDwoYEZF2MjArjf/+zBmxLqPddL5xbyIi0ikoYEREJBQKGBERCYUCRkREQqGAERGRUChgREQkFAoYEREJhQJGRERC0aVuFWNm5cDWZrMzgf1Hmdf0/dFeZwO7T6DMluppa5tj7Uvz9++97kp9afr6RPpzIn1pbZl+zj6Yp++mbbUerU0Y380Id+959LKPg7t36QmYebR5Td8f7TVQFO162trmWPtyhD50mb5Eqz8n0hf9nB3550zfTdf9bo42dYdDZM+2Yd6zx/g62vW0tc2x9qX5+2dbaXO8OkJf2lrH0ZxIX1pbpp+z6NB3c+T5sfxujqhLHSJrD2ZW5CHdebS9daW+QNfqT1fqC3St/nSlvkC4/ekOezDRNjPWBURRV+oLdK3+dKW+QNfqT1fqC4TYH+3BiIhIKLQHIyIioejWAWNmD5lZmZmtOo51x5vZSjPbYGa/NDNrsuxmM1tnZqvN7H+iW3Wr9US9L2b2IzMrNbNlwXRZ9CtvtaZQvptg+b+amZtZdvQqPmI9YXw3d5rZiuB7+buZDYh+5S3WE0Zf/jf497LCzGabWa/oV95qTWH055rg336jmYV+ruZE+tDK511vZuuD6fom84/476pFYQ1P6wwTMAkYB6w6jnXfBs4GDHgB+EQw/wLgZSA5eN+nE/flR8B3u8p3EywbCLxI5Hqp7M7aFyCjSZtvAfd14r5cDCQEr38K/LQz/5wBpwIjgLlAYUftQ1DfkGbzsoBNwZ+9g9e9j9TfI03deg/G3ecBe5vOM7NhZjbHzBab2etmNrL5embWn8g/8AUe+Zv/AzA1WPw14CfuXhNsoyzcXkSE1JeYCbE/vwD+DWi3k49h9MXdDzRpmk479Sekvvzd3euDpguAvHB78YGQ+rPW3d9pj/qD7R1XH1pxCfCSu+91933AS8Clx/v/RLcOmFbMBG529/HAd4HfttAmFyhp8r4kmAdwCnC+mS00s9fM7MxQqz2yE+0LwDeDQxcPmVnv8EptkxPqj5ldAZS6+/KwC22DE/5uzOy/zKwY+DzwwxBrPZpo/Jy95wYivx3HUjT7Eytt6UNLcoHiJu/f69dx9TehjRvtFsysB3AO8NcmhxeTj/FjEojsXp4NnAk8bmZDg9RvN1Hqy73AnUR+O74TuJvIfwDt7kT7Y2ZpwPeJHI6JqSh9N7j7bcBtZvbvwDeB26NWZBtFqy/BZ90G1AOPRKe646ohav2JlSP1wcy+DHw7mDcceN7MaoHN7n5ltGtRwHxYHFDh7mOazjSzeGBx8PYZIv/xNt2NzwNKg9clwJNBoLxtZo1E7l1UHmbhLTjhvrj7ribr/R/wtzALPooT7c8wIB9YHvyjywOWmNlZ7r4z5Nqbi8bPWVOPAM8Tg4AhSn0xsy8BlwNT2vuXsWai/d3EQot9AHD3h4GHAcxsLvAld9/SpEkpMLnJ+zwi52pKOZ7+hn0CqqNPwBCanBwD3gKuCV4bUNDKes1PeF0WzL8JuCN4fQqR3U3rpH3p36TN/wMe7czfTbM2W2ink/whfTcnN2lzMzCrE/flUmANkNOeP19h/5zRTif5j7cPtH6SfzORE/y9g9dZbelvi3XF4gvtKBPwF2AHUEdkz+NGIr/lzgGWBz/0P2xl3UJgFbAR+DUfXLSaBPwpWLYEuLAT9+WPwEpgBZHf2vq3R1/C6k+zNltov1FkYXw3TwTzVxC5r1RuJ+7LBiK/iC0LpnYZERdif64MPqsG2AW82BH7QAsBE8y/IfhONgBfPlp/jzTpSn4REQmFRpGJiEgoFDAiIhIKBYyIiIRCASMiIqFQwIiISCgUMNKlmdnBdt7eW1H6nMlmtt8id0teZ2Y/a8M6U81sVDS2LxINChiRY2BmR7z7hbufE8XNve6Rq7HHApeb2blHaT8VUMBIh6GAkW6ntTvNmtmngpuULjWzl82sbzD/R2b2RzN7E/hj8P4hM5trZpvM7FtNPvtg8OfkYPmsYA/kkfeen2FmlwXzFgfP1TjiLXjc/TCRCxDfu2nnV8xskZktN7MnzCzNzM4BPg38b7DXM+wE7qgrEhUKGOmOWrvT7BvA2e4+FniUyG393zMK+Li7fzZ4P5LIrc3PAm43s8QWtjMW+E6w7lDgXDNLAe4n8iyN8UDO0YoN7mJ9MjAvmPWku5/p7gXAWuBGd3+LyN0WbnH3Me6+8Qj9FGkXutmldCtHuVtuHvBY8OyLJCL3YXrPM8GexHue88gzf2rMrAzoy4dvZw7wtruXBNtdRuR+UQeBTe7+3mf/BZjeSrnnm9lyIuFyj39wU87RZvafQC+gB5EHqB1LP0XahQJGuptW7zQL/Ar4ubs/Y2aTiTzR8z1VzdrWNHndQMv/ltrS5khed/fLzSwfWGBmj7v7MuB3wFR3Xx7chXhyC+seqZ8i7UKHyKRb8ciTIDeb2TUAFlEQLM7kg1uQX9/S+lHwDjDUzIYE76cdbYVgb+cnwPeCWT2BHcFhuc83aVoZLDtaP0XahQJGuro0MytpMv0Lkf+UbwwOP60Grgja/ojIIaXFwO4wigkOs30dmBNspxLY34ZV7wMmBcH0A2Ah8CawrkmbR4FbgkEKw2i9nyLtQndTFmlnZtbD3Q8Go8p+A6x391/Eui6RaNMejEj7+0pw0n81kcNy98e4HpFQaA9GRERCoT0YEREJhQJGRERCoYAREZFQKGBERCQUChgREQmFAkZERELx/wE9/u6H14I25wAAAABJRU5ErkJggg==\n",
            "text/plain": [
              "<Figure size 432x288 with 1 Axes>"
            ]
          },
          "metadata": {
            "tags": [],
            "needs_background": "light"
          }
        }
      ]
    },
    {
      "cell_type": "code",
      "metadata": {
        "id": "4kfYafeo2HUF",
        "colab_type": "code",
        "outputId": "5fabb4b7-e345-40da-fdab-aaaa71f6b9b1",
        "colab": {
          "base_uri": "https://localhost:8080/",
          "height": 78
        }
      },
      "source": [
        "learn.fit_one_cycle(1, 3e-2, moms=(0.8,0.7))"
      ],
      "execution_count": 0,
      "outputs": [
        {
          "output_type": "display_data",
          "data": {
            "text/html": [
              "<table border=\"1\" class=\"dataframe\">\n",
              "  <thead>\n",
              "    <tr style=\"text-align: left;\">\n",
              "      <th>epoch</th>\n",
              "      <th>train_loss</th>\n",
              "      <th>valid_loss</th>\n",
              "      <th>accuracy</th>\n",
              "      <th>time</th>\n",
              "    </tr>\n",
              "  </thead>\n",
              "  <tbody>\n",
              "    <tr>\n",
              "      <td>0</td>\n",
              "      <td>5.173576</td>\n",
              "      <td>5.319366</td>\n",
              "      <td>0.417299</td>\n",
              "      <td>00:32</td>\n",
              "    </tr>\n",
              "  </tbody>\n",
              "</table>"
            ],
            "text/plain": [
              "<IPython.core.display.HTML object>"
            ]
          },
          "metadata": {
            "tags": []
          }
        }
      ]
    },
    {
      "cell_type": "code",
      "metadata": {
        "id": "w1ahDpTW8hdC",
        "colab_type": "code",
        "colab": {}
      },
      "source": [
        "learn.save('fit_head')\n",
        "learn.load('fit_head');"
      ],
      "execution_count": 0,
      "outputs": []
    },
    {
      "cell_type": "code",
      "metadata": {
        "id": "Es8tDFoc8qRG",
        "colab_type": "code",
        "colab": {}
      },
      "source": [
        "learn.unfreeze()"
      ],
      "execution_count": 0,
      "outputs": []
    },
    {
      "cell_type": "code",
      "metadata": {
        "id": "4DYvn_Nx8tY8",
        "colab_type": "code",
        "outputId": "e1558948-65a4-45ee-b214-e5b18394d04e",
        "colab": {
          "base_uri": "https://localhost:8080/",
          "height": 373
        }
      },
      "source": [
        "learn.lr_find()\n",
        "learn.recorder.plot()"
      ],
      "execution_count": 0,
      "outputs": [
        {
          "output_type": "display_data",
          "data": {
            "text/html": [
              "\n",
              "    <div>\n",
              "        <style>\n",
              "            /* Turns off some styling */\n",
              "            progress {\n",
              "                /* gets rid of default border in Firefox and Opera. */\n",
              "                border: none;\n",
              "                /* Needs to be in here for Safari polyfill so background images work as expected. */\n",
              "                background-size: auto;\n",
              "            }\n",
              "            .progress-bar-interrupted, .progress-bar-interrupted::-webkit-progress-bar {\n",
              "                background: #F44336;\n",
              "            }\n",
              "        </style>\n",
              "      <progress value='0' class='' max='1' style='width:300px; height:20px; vertical-align: middle;'></progress>\n",
              "      0.00% [0/1 00:00<00:00]\n",
              "    </div>\n",
              "    \n",
              "<table border=\"1\" class=\"dataframe\">\n",
              "  <thead>\n",
              "    <tr style=\"text-align: left;\">\n",
              "      <th>epoch</th>\n",
              "      <th>train_loss</th>\n",
              "      <th>valid_loss</th>\n",
              "      <th>accuracy</th>\n",
              "      <th>time</th>\n",
              "    </tr>\n",
              "  </thead>\n",
              "  <tbody>\n",
              "  </tbody>\n",
              "</table><p>\n",
              "\n",
              "    <div>\n",
              "        <style>\n",
              "            /* Turns off some styling */\n",
              "            progress {\n",
              "                /* gets rid of default border in Firefox and Opera. */\n",
              "                border: none;\n",
              "                /* Needs to be in here for Safari polyfill so background images work as expected. */\n",
              "                background-size: auto;\n",
              "            }\n",
              "            .progress-bar-interrupted, .progress-bar-interrupted::-webkit-progress-bar {\n",
              "                background: #F44336;\n",
              "            }\n",
              "        </style>\n",
              "      <progress value='97' class='' max='225' style='width:300px; height:20px; vertical-align: middle;'></progress>\n",
              "      43.11% [97/225 00:16<00:21 15.4745]\n",
              "    </div>\n",
              "    "
            ],
            "text/plain": [
              "<IPython.core.display.HTML object>"
            ]
          },
          "metadata": {
            "tags": []
          }
        },
        {
          "output_type": "stream",
          "text": [
            "LR Finder is complete, type {learner_name}.recorder.plot() to see the graph.\n"
          ],
          "name": "stdout"
        },
        {
          "output_type": "display_data",
          "data": {
            "image/png": "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\n",
            "text/plain": [
              "<Figure size 432x288 with 1 Axes>"
            ]
          },
          "metadata": {
            "tags": [],
            "needs_background": "light"
          }
        }
      ]
    },
    {
      "cell_type": "code",
      "metadata": {
        "id": "NVz3nUFd8wNa",
        "colab_type": "code",
        "outputId": "b29a95bd-a6a6-4204-ba61-ac346e8f34ed",
        "colab": {
          "base_uri": "https://localhost:8080/",
          "height": 228
        }
      },
      "source": [
        "learn.fit_one_cycle(6, 3e-3, moms=(0.8,0.7))"
      ],
      "execution_count": 0,
      "outputs": [
        {
          "output_type": "display_data",
          "data": {
            "text/html": [
              "<table border=\"1\" class=\"dataframe\">\n",
              "  <thead>\n",
              "    <tr style=\"text-align: left;\">\n",
              "      <th>epoch</th>\n",
              "      <th>train_loss</th>\n",
              "      <th>valid_loss</th>\n",
              "      <th>accuracy</th>\n",
              "      <th>time</th>\n",
              "    </tr>\n",
              "  </thead>\n",
              "  <tbody>\n",
              "    <tr>\n",
              "      <td>0</td>\n",
              "      <td>4.461165</td>\n",
              "      <td>7.545810</td>\n",
              "      <td>0.000223</td>\n",
              "      <td>00:40</td>\n",
              "    </tr>\n",
              "    <tr>\n",
              "      <td>1</td>\n",
              "      <td>4.354337</td>\n",
              "      <td>8.700099</td>\n",
              "      <td>0.000781</td>\n",
              "      <td>00:39</td>\n",
              "    </tr>\n",
              "    <tr>\n",
              "      <td>2</td>\n",
              "      <td>3.959239</td>\n",
              "      <td>8.919730</td>\n",
              "      <td>0.000112</td>\n",
              "      <td>00:39</td>\n",
              "    </tr>\n",
              "    <tr>\n",
              "      <td>3</td>\n",
              "      <td>3.345248</td>\n",
              "      <td>10.772732</td>\n",
              "      <td>0.000223</td>\n",
              "      <td>00:40</td>\n",
              "    </tr>\n",
              "    <tr>\n",
              "      <td>4</td>\n",
              "      <td>2.677438</td>\n",
              "      <td>12.075153</td>\n",
              "      <td>0.000112</td>\n",
              "      <td>00:40</td>\n",
              "    </tr>\n",
              "    <tr>\n",
              "      <td>5</td>\n",
              "      <td>2.270841</td>\n",
              "      <td>12.328494</td>\n",
              "      <td>0.000335</td>\n",
              "      <td>00:40</td>\n",
              "    </tr>\n",
              "  </tbody>\n",
              "</table>"
            ],
            "text/plain": [
              "<IPython.core.display.HTML object>"
            ]
          },
          "metadata": {
            "tags": []
          }
        }
      ]
    },
    {
      "cell_type": "code",
      "metadata": {
        "id": "CZpJtCxn88IW",
        "colab_type": "code",
        "colab": {}
      },
      "source": [
        "learn.save('fine_tuned')\n",
        "learn.load('fine_tuned');"
      ],
      "execution_count": 0,
      "outputs": []
    },
    {
      "cell_type": "code",
      "metadata": {
        "id": "chbbiLCY9DQU",
        "colab_type": "code",
        "outputId": "1c217d4d-5e6c-431f-e364-b6edd048938f",
        "colab": {
          "base_uri": "https://localhost:8080/",
          "height": 72
        }
      },
      "source": [
        "TEXT = \"I liked this movie because\"\n",
        "N_WORDS = 40\n",
        "N_SENTENCES = 2\n",
        "print(\"\\n\".join(learn.predict(TEXT, N_WORDS, temperature=0.75) for _ in range(N_SENTENCES)))"
      ],
      "execution_count": 0,
      "outputs": [
        {
          "output_type": "stream",
          "text": [
            "I liked this movie because my dad loved it ! ! xxbos try again , try 2 more days and then recover much until i get back of the 4 * hug * I`m still off for a run in the forest\n",
            "I liked this movie because i was so **** amazingamazingamazingamazing iiii amamamam sosososo happyhappyhappyhappy thatthatthatthat thethethethe '''' Twilight ' films were on for me ... xxbos Just had my house lunch ! Boo . Too bad it`s not going\n"
          ],
          "name": "stdout"
        }
      ]
    },
    {
      "cell_type": "code",
      "metadata": {
        "id": "XXgv4Fm0_WJQ",
        "colab_type": "code",
        "colab": {}
      },
      "source": [
        "learn.save_encoder('fine_tuned_enc')"
      ],
      "execution_count": 0,
      "outputs": []
    },
    {
      "cell_type": "markdown",
      "metadata": {
        "id": "2ThjUYhn_hNT",
        "colab_type": "text"
      },
      "source": [
        "# Classifier"
      ]
    },
    {
      "cell_type": "code",
      "metadata": {
        "id": "E5ZeVhTGBfAk",
        "colab_type": "code",
        "colab": {}
      },
      "source": [
        "bs = 32"
      ],
      "execution_count": 0,
      "outputs": []
    },
    {
      "cell_type": "code",
      "metadata": {
        "id": "eihZkIb0_gHf",
        "colab_type": "code",
        "outputId": "0482b7ac-8767-45b6-d095-003c281767a0",
        "colab": {
          "base_uri": "https://localhost:8080/",
          "height": 17
        }
      },
      "source": [
        "data_cls = TextClasDataBunch.from_df(path, train_df = train, valid_df=testlm ,min_freq=1 , max_vocab = 60000 ,bs = bs,label_cols = 'sentiment',text_cols = 'text' )"
      ],
      "execution_count": 0,
      "outputs": [
        {
          "output_type": "display_data",
          "data": {
            "text/html": [
              ""
            ],
            "text/plain": [
              "<IPython.core.display.HTML object>"
            ]
          },
          "metadata": {
            "tags": []
          }
        },
        {
          "output_type": "display_data",
          "data": {
            "text/html": [
              ""
            ],
            "text/plain": [
              "<IPython.core.display.HTML object>"
            ]
          },
          "metadata": {
            "tags": []
          }
        }
      ]
    },
    {
      "cell_type": "code",
      "metadata": {
        "id": "ap2_wzpgBhbW",
        "colab_type": "code",
        "outputId": "e33d8fd5-9d63-430f-a505-a5c8ec25bdd2",
        "colab": {
          "base_uri": "https://localhost:8080/",
          "height": 319
        }
      },
      "source": [
        "data_cls.show_batch()"
      ],
      "execution_count": 0,
      "outputs": [
        {
          "output_type": "display_data",
          "data": {
            "text/html": [
              "<table border=\"1\" class=\"dataframe\">\n",
              "  <thead>\n",
              "    <tr style=\"text-align: right;\">\n",
              "      <th>text</th>\n",
              "      <th>target</th>\n",
              "    </tr>\n",
              "  </thead>\n",
              "  <tbody>\n",
              "    <tr>\n",
              "      <td>xxbos i xxup tried xxup to xxup put a xxup iron xxup on , xxup on xxup my xxup book xxup bag xxup and i xxup burnt xxup my xxup bag xxup with xxup the xxup iron xxup lol .. xxup buzz xxup keep xxup making xxup fun xxup of xxup me ... ( xxrep 4 * ) xxup lol</td>\n",
              "      <td>positive</td>\n",
              "    </tr>\n",
              "    <tr>\n",
              "      <td>xxbos xxup ratt xxup rocked xxup nashville xxup tonite .. xxup one xxup thing xxup sucked , xxup no xxup encore ! xxup like xxup in xxup the xxup 80`s xxup they xxup still xxup have a xxup fun xxup show . xxup pearcy xxup has xxup that xxup hott xxup bad xxup boy xxup look</td>\n",
              "      <td>neutral</td>\n",
              "    </tr>\n",
              "    <tr>\n",
              "      <td>xxbos g xxrep 4 r ! ! ! xxmaj it`s xxup back xxrep 5 ! xxmaj and what i mean is my headache xxmaj but on the * * bright side xxrep 4 . it`s only on one side xxrep 4 ! / \\ / \\ / \\ / \\ / \\</td>\n",
              "      <td>negative</td>\n",
              "    </tr>\n",
              "    <tr>\n",
              "      <td>xxbos xxup like xxup drew xxup said ' xxup give xxup tc a xxup chance ' xxup we xxup will xxup miss xxup thomas xxup but xxup have xxup to xxup move xxup on . xxup so xxup watch xxup this ! http : / / bit.ly / r6rfc</td>\n",
              "      <td>negative</td>\n",
              "    </tr>\n",
              "    <tr>\n",
              "      <td>xxbos xxmaj how i wish i get at least 2 days - off in a row . 1 day off is not enough to rest . 3 days on , 1 day off , 4 days on , 1 day off ... xxmaj ugh ! ! !</td>\n",
              "      <td>negative</td>\n",
              "    </tr>\n",
              "  </tbody>\n",
              "</table>"
            ],
            "text/plain": [
              "<IPython.core.display.HTML object>"
            ]
          },
          "metadata": {
            "tags": []
          }
        }
      ]
    },
    {
      "cell_type": "code",
      "metadata": {
        "id": "1jAvHTgmBaYy",
        "colab_type": "code",
        "colab": {}
      },
      "source": [
        "data_cls.save('data_clas.pkl')"
      ],
      "execution_count": 0,
      "outputs": []
    },
    {
      "cell_type": "code",
      "metadata": {
        "id": "KkdXkKQIClKI",
        "colab_type": "code",
        "colab": {}
      },
      "source": [
        "learn = text_classifier_learner(data_cls, AWD_LSTM, drop_mult=0.5)\n",
        "learn.load_encoder('fine_tuned_enc');"
      ],
      "execution_count": 0,
      "outputs": []
    },
    {
      "cell_type": "code",
      "metadata": {
        "id": "Z40dYRixCk-h",
        "colab_type": "code",
        "outputId": "42e4c7c1-60b1-4f0c-bf4a-6e90ce0de6c5",
        "colab": {
          "base_uri": "https://localhost:8080/",
          "height": 373
        }
      },
      "source": [
        "learn.lr_find()\n",
        "learn.recorder.plot()"
      ],
      "execution_count": 0,
      "outputs": [
        {
          "output_type": "display_data",
          "data": {
            "text/html": [
              "\n",
              "    <div>\n",
              "        <style>\n",
              "            /* Turns off some styling */\n",
              "            progress {\n",
              "                /* gets rid of default border in Firefox and Opera. */\n",
              "                border: none;\n",
              "                /* Needs to be in here for Safari polyfill so background images work as expected. */\n",
              "                background-size: auto;\n",
              "            }\n",
              "            .progress-bar-interrupted, .progress-bar-interrupted::-webkit-progress-bar {\n",
              "                background: #F44336;\n",
              "            }\n",
              "        </style>\n",
              "      <progress value='0' class='' max='1' style='width:300px; height:20px; vertical-align: middle;'></progress>\n",
              "      0.00% [0/1 00:00<00:00]\n",
              "    </div>\n",
              "    \n",
              "<table border=\"1\" class=\"dataframe\">\n",
              "  <thead>\n",
              "    <tr style=\"text-align: left;\">\n",
              "      <th>epoch</th>\n",
              "      <th>train_loss</th>\n",
              "      <th>valid_loss</th>\n",
              "      <th>accuracy</th>\n",
              "      <th>time</th>\n",
              "    </tr>\n",
              "  </thead>\n",
              "  <tbody>\n",
              "  </tbody>\n",
              "</table><p>\n",
              "\n",
              "    <div>\n",
              "        <style>\n",
              "            /* Turns off some styling */\n",
              "            progress {\n",
              "                /* gets rid of default border in Firefox and Opera. */\n",
              "                border: none;\n",
              "                /* Needs to be in here for Safari polyfill so background images work as expected. */\n",
              "                background-size: auto;\n",
              "            }\n",
              "            .progress-bar-interrupted, .progress-bar-interrupted::-webkit-progress-bar {\n",
              "                background: #F44336;\n",
              "            }\n",
              "        </style>\n",
              "      <progress value='89' class='' max='858' style='width:300px; height:20px; vertical-align: middle;'></progress>\n",
              "      10.37% [89/858 00:02<00:18 1.2610]\n",
              "    </div>\n",
              "    "
            ],
            "text/plain": [
              "<IPython.core.display.HTML object>"
            ]
          },
          "metadata": {
            "tags": []
          }
        },
        {
          "output_type": "stream",
          "text": [
            "LR Finder is complete, type {learner_name}.recorder.plot() to see the graph.\n"
          ],
          "name": "stdout"
        },
        {
          "output_type": "display_data",
          "data": {
            "image/png": "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\n",
            "text/plain": [
              "<Figure size 432x288 with 1 Axes>"
            ]
          },
          "metadata": {
            "tags": [],
            "needs_background": "light"
          }
        }
      ]
    },
    {
      "cell_type": "code",
      "metadata": {
        "id": "uToCQqSUCxuC",
        "colab_type": "code",
        "outputId": "7e8c8a94-29c8-4518-d601-15703317c133",
        "colab": {
          "base_uri": "https://localhost:8080/",
          "height": 78
        }
      },
      "source": [
        "learn.fit_one_cycle(1, 5e-2, moms=(0.8,0.7))"
      ],
      "execution_count": 0,
      "outputs": [
        {
          "output_type": "display_data",
          "data": {
            "text/html": [
              "<table border=\"1\" class=\"dataframe\">\n",
              "  <thead>\n",
              "    <tr style=\"text-align: left;\">\n",
              "      <th>epoch</th>\n",
              "      <th>train_loss</th>\n",
              "      <th>valid_loss</th>\n",
              "      <th>accuracy</th>\n",
              "      <th>time</th>\n",
              "    </tr>\n",
              "  </thead>\n",
              "  <tbody>\n",
              "    <tr>\n",
              "      <td>0</td>\n",
              "      <td>0.883779</td>\n",
              "      <td>0.852278</td>\n",
              "      <td>0.599321</td>\n",
              "      <td>00:15</td>\n",
              "    </tr>\n",
              "  </tbody>\n",
              "</table>"
            ],
            "text/plain": [
              "<IPython.core.display.HTML object>"
            ]
          },
          "metadata": {
            "tags": []
          }
        }
      ]
    },
    {
      "cell_type": "code",
      "metadata": {
        "id": "_x3vK4Q4C6rx",
        "colab_type": "code",
        "colab": {}
      },
      "source": [
        "learn.save('cls-0')\n",
        "learn.load('cls-0');"
      ],
      "execution_count": 0,
      "outputs": []
    },
    {
      "cell_type": "code",
      "metadata": {
        "id": "b1zOddWHDH2Q",
        "colab_type": "code",
        "outputId": "b23d2844-eb7b-4b06-8cfb-53876bcc35b3",
        "colab": {
          "base_uri": "https://localhost:8080/",
          "height": 78
        }
      },
      "source": [
        "learn.freeze_to(-2)\n",
        "learn.fit_one_cycle(1, slice(1e-2/(2.6**4),1e-2), moms=(0.8,0.7))"
      ],
      "execution_count": 0,
      "outputs": [
        {
          "output_type": "display_data",
          "data": {
            "text/html": [
              "<table border=\"1\" class=\"dataframe\">\n",
              "  <thead>\n",
              "    <tr style=\"text-align: left;\">\n",
              "      <th>epoch</th>\n",
              "      <th>train_loss</th>\n",
              "      <th>valid_loss</th>\n",
              "      <th>accuracy</th>\n",
              "      <th>time</th>\n",
              "    </tr>\n",
              "  </thead>\n",
              "  <tbody>\n",
              "    <tr>\n",
              "      <td>0</td>\n",
              "      <td>0.738281</td>\n",
              "      <td>0.719001</td>\n",
              "      <td>0.696661</td>\n",
              "      <td>00:17</td>\n",
              "    </tr>\n",
              "  </tbody>\n",
              "</table>"
            ],
            "text/plain": [
              "<IPython.core.display.HTML object>"
            ]
          },
          "metadata": {
            "tags": []
          }
        }
      ]
    },
    {
      "cell_type": "code",
      "metadata": {
        "id": "XTjhnSZmDRnX",
        "colab_type": "code",
        "colab": {}
      },
      "source": [
        "learn.save('cls-1')\n",
        "learn.load('cls-1');"
      ],
      "execution_count": 0,
      "outputs": []
    },
    {
      "cell_type": "code",
      "metadata": {
        "id": "2ZW-gxP9DRRa",
        "colab_type": "code",
        "outputId": "96177d9a-eebf-4ab8-cc1e-25679b6ffabc",
        "colab": {
          "base_uri": "https://localhost:8080/",
          "height": 78
        }
      },
      "source": [
        "learn.freeze_to(-3)\n",
        "learn.fit_one_cycle(1, slice(5e-3/(2.6**4),5e-3), moms=(0.8,0.7))"
      ],
      "execution_count": 0,
      "outputs": [
        {
          "output_type": "display_data",
          "data": {
            "text/html": [
              "<table border=\"1\" class=\"dataframe\">\n",
              "  <thead>\n",
              "    <tr style=\"text-align: left;\">\n",
              "      <th>epoch</th>\n",
              "      <th>train_loss</th>\n",
              "      <th>valid_loss</th>\n",
              "      <th>accuracy</th>\n",
              "      <th>time</th>\n",
              "    </tr>\n",
              "  </thead>\n",
              "  <tbody>\n",
              "    <tr>\n",
              "      <td>0</td>\n",
              "      <td>0.676053</td>\n",
              "      <td>0.624463</td>\n",
              "      <td>0.741652</td>\n",
              "      <td>00:27</td>\n",
              "    </tr>\n",
              "  </tbody>\n",
              "</table>"
            ],
            "text/plain": [
              "<IPython.core.display.HTML object>"
            ]
          },
          "metadata": {
            "tags": []
          }
        }
      ]
    },
    {
      "cell_type": "code",
      "metadata": {
        "id": "FD8cGe5gDjHi",
        "colab_type": "code",
        "colab": {}
      },
      "source": [
        "learn.save('cls-2')\n",
        "learn.load('cls-2');"
      ],
      "execution_count": 0,
      "outputs": []
    },
    {
      "cell_type": "code",
      "metadata": {
        "id": "27L-CVD9Drtq",
        "colab_type": "code",
        "outputId": "87834e02-80d6-4e98-f21c-17b742b212a2",
        "colab": {
          "base_uri": "https://localhost:8080/",
          "height": 108
        }
      },
      "source": [
        "learn.unfreeze()\n",
        "learn.fit_one_cycle(2, slice(1e-3/(2.6**4),1e-3), moms=(0.8,0.7))"
      ],
      "execution_count": 0,
      "outputs": [
        {
          "output_type": "display_data",
          "data": {
            "text/html": [
              "<table border=\"1\" class=\"dataframe\">\n",
              "  <thead>\n",
              "    <tr style=\"text-align: left;\">\n",
              "      <th>epoch</th>\n",
              "      <th>train_loss</th>\n",
              "      <th>valid_loss</th>\n",
              "      <th>accuracy</th>\n",
              "      <th>time</th>\n",
              "    </tr>\n",
              "  </thead>\n",
              "  <tbody>\n",
              "    <tr>\n",
              "      <td>0</td>\n",
              "      <td>0.618654</td>\n",
              "      <td>0.606892</td>\n",
              "      <td>0.750142</td>\n",
              "      <td>00:40</td>\n",
              "    </tr>\n",
              "    <tr>\n",
              "      <td>1</td>\n",
              "      <td>0.543860</td>\n",
              "      <td>0.603163</td>\n",
              "      <td>0.750424</td>\n",
              "      <td>00:45</td>\n",
              "    </tr>\n",
              "  </tbody>\n",
              "</table>"
            ],
            "text/plain": [
              "<IPython.core.display.HTML object>"
            ]
          },
          "metadata": {
            "tags": []
          }
        }
      ]
    },
    {
      "cell_type": "code",
      "metadata": {
        "id": "nTrIUDxaDzc6",
        "colab_type": "code",
        "colab": {}
      },
      "source": [
        "learn.save('cls-3')\n",
        "learn.load('cls-3');"
      ],
      "execution_count": 0,
      "outputs": []
    },
    {
      "cell_type": "code",
      "metadata": {
        "id": "QRNmzP8aELiL",
        "colab_type": "code",
        "outputId": "415d63bc-ba8a-469a-ac31-b48282986739",
        "colab": {
          "base_uri": "https://localhost:8080/",
          "height": 283
        }
      },
      "source": [
        "learn.recorder.plot_losses()"
      ],
      "execution_count": 0,
      "outputs": [
        {
          "output_type": "display_data",
          "data": {
            "image/png": "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\n",
            "text/plain": [
              "<Figure size 432x288 with 1 Axes>"
            ]
          },
          "metadata": {
            "tags": [],
            "needs_background": "light"
          }
        }
      ]
    },
    {
      "cell_type": "code",
      "metadata": {
        "id": "RDb0-d37Dwm2",
        "colab_type": "code",
        "outputId": "b89d4e4f-a3be-40cd-f81c-3efa35ac9eed",
        "colab": {
          "base_uri": "https://localhost:8080/",
          "height": 373
        }
      },
      "source": [
        "learn.lr_find()\n",
        "learn.recorder.plot()"
      ],
      "execution_count": 0,
      "outputs": [
        {
          "output_type": "display_data",
          "data": {
            "text/html": [
              "\n",
              "    <div>\n",
              "        <style>\n",
              "            /* Turns off some styling */\n",
              "            progress {\n",
              "                /* gets rid of default border in Firefox and Opera. */\n",
              "                border: none;\n",
              "                /* Needs to be in here for Safari polyfill so background images work as expected. */\n",
              "                background-size: auto;\n",
              "            }\n",
              "            .progress-bar-interrupted, .progress-bar-interrupted::-webkit-progress-bar {\n",
              "                background: #F44336;\n",
              "            }\n",
              "        </style>\n",
              "      <progress value='0' class='' max='1' style='width:300px; height:20px; vertical-align: middle;'></progress>\n",
              "      0.00% [0/1 00:00<00:00]\n",
              "    </div>\n",
              "    \n",
              "<table border=\"1\" class=\"dataframe\">\n",
              "  <thead>\n",
              "    <tr style=\"text-align: left;\">\n",
              "      <th>epoch</th>\n",
              "      <th>train_loss</th>\n",
              "      <th>valid_loss</th>\n",
              "      <th>accuracy</th>\n",
              "      <th>time</th>\n",
              "    </tr>\n",
              "  </thead>\n",
              "  <tbody>\n",
              "  </tbody>\n",
              "</table><p>\n",
              "\n",
              "    <div>\n",
              "        <style>\n",
              "            /* Turns off some styling */\n",
              "            progress {\n",
              "                /* gets rid of default border in Firefox and Opera. */\n",
              "                border: none;\n",
              "                /* Needs to be in here for Safari polyfill so background images work as expected. */\n",
              "                background-size: auto;\n",
              "            }\n",
              "            .progress-bar-interrupted, .progress-bar-interrupted::-webkit-progress-bar {\n",
              "                background: #F44336;\n",
              "            }\n",
              "        </style>\n",
              "      <progress value='87' class='' max='858' style='width:300px; height:20px; vertical-align: middle;'></progress>\n",
              "      10.14% [87/858 00:04<00:42 2.0543]\n",
              "    </div>\n",
              "    "
            ],
            "text/plain": [
              "<IPython.core.display.HTML object>"
            ]
          },
          "metadata": {
            "tags": []
          }
        },
        {
          "output_type": "stream",
          "text": [
            "LR Finder is complete, type {learner_name}.recorder.plot() to see the graph.\n"
          ],
          "name": "stdout"
        },
        {
          "output_type": "display_data",
          "data": {
            "image/png": "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\n",
            "text/plain": [
              "<Figure size 432x288 with 1 Axes>"
            ]
          },
          "metadata": {
            "tags": [],
            "needs_background": "light"
          }
        }
      ]
    },
    {
      "cell_type": "code",
      "metadata": {
        "id": "n74vk77BETEQ",
        "colab_type": "code",
        "outputId": "e51235bb-7827-413d-bee1-70bb0813037f",
        "colab": {
          "base_uri": "https://localhost:8080/",
          "height": 168
        }
      },
      "source": [
        "learn.fit_one_cycle(4, slice(1e-3/(2.6**4),1e-3), moms=(0.8,0.7), wd = 0.2)"
      ],
      "execution_count": 0,
      "outputs": [
        {
          "output_type": "display_data",
          "data": {
            "text/html": [
              "<table border=\"1\" class=\"dataframe\">\n",
              "  <thead>\n",
              "    <tr style=\"text-align: left;\">\n",
              "      <th>epoch</th>\n",
              "      <th>train_loss</th>\n",
              "      <th>valid_loss</th>\n",
              "      <th>accuracy</th>\n",
              "      <th>time</th>\n",
              "    </tr>\n",
              "  </thead>\n",
              "  <tbody>\n",
              "    <tr>\n",
              "      <td>0</td>\n",
              "      <td>0.511339</td>\n",
              "      <td>0.607525</td>\n",
              "      <td>0.753537</td>\n",
              "      <td>00:41</td>\n",
              "    </tr>\n",
              "    <tr>\n",
              "      <td>1</td>\n",
              "      <td>0.514547</td>\n",
              "      <td>0.611382</td>\n",
              "      <td>0.750142</td>\n",
              "      <td>00:43</td>\n",
              "    </tr>\n",
              "    <tr>\n",
              "      <td>2</td>\n",
              "      <td>0.487693</td>\n",
              "      <td>0.621671</td>\n",
              "      <td>0.745331</td>\n",
              "      <td>00:42</td>\n",
              "    </tr>\n",
              "    <tr>\n",
              "      <td>3</td>\n",
              "      <td>0.421405</td>\n",
              "      <td>0.634713</td>\n",
              "      <td>0.745048</td>\n",
              "      <td>00:40</td>\n",
              "    </tr>\n",
              "  </tbody>\n",
              "</table>"
            ],
            "text/plain": [
              "<IPython.core.display.HTML object>"
            ]
          },
          "metadata": {
            "tags": []
          }
        }
      ]
    },
    {
      "cell_type": "code",
      "metadata": {
        "id": "zSyqDKitFf19",
        "colab_type": "code",
        "outputId": "b2a5f15e-8a21-48d1-ab67-270836256b5c",
        "colab": {
          "base_uri": "https://localhost:8080/",
          "height": 35
        }
      },
      "source": [
        "learn.predict(\" that's my house\")"
      ],
      "execution_count": 0,
      "outputs": [
        {
          "output_type": "execute_result",
          "data": {
            "text/plain": [
              "(Category tensor(1), tensor(1), tensor([0.0736, 0.9211, 0.0053]))"
            ]
          },
          "metadata": {
            "tags": []
          },
          "execution_count": 89
        }
      ]
    },
    {
      "cell_type": "code",
      "metadata": {
        "id": "kd1ayBpPFqte",
        "colab_type": "code",
        "outputId": "4ae8ef12-1fb6-493a-8cb4-66854a742129",
        "colab": {
          "base_uri": "https://localhost:8080/",
          "height": 35
        }
      },
      "source": [
        "learn.predict(\"good vibes only\")"
      ],
      "execution_count": 0,
      "outputs": [
        {
          "output_type": "execute_result",
          "data": {
            "text/plain": [
              "(Category tensor(2), tensor(2), tensor([3.4672e-04, 5.0563e-03, 9.9460e-01]))"
            ]
          },
          "metadata": {
            "tags": []
          },
          "execution_count": 90
        }
      ]
    }
  ]
}
